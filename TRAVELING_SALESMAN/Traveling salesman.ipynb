{
 "cells": [
  {
   "cell_type": "code",
   "execution_count": 190,
   "metadata": {},
   "outputs": [
    {
     "ename": "TypeError",
     "evalue": "generatePath() missing 1 required positional argument: 'cities'",
     "output_type": "error",
     "traceback": [
      "\u001b[1;31m---------------------------------------------------------------------------\u001b[0m",
      "\u001b[1;31mTypeError\u001b[0m                                 Traceback (most recent call last)",
      "\u001b[1;32m<ipython-input-190-c9001a103665>\u001b[0m in \u001b[0;36m<module>\u001b[1;34m\u001b[0m\n\u001b[0;32m     85\u001b[0m     \u001b[1;31m#print(\"City Coords: \", cityCoords)\u001b[0m\u001b[1;33m\u001b[0m\u001b[1;33m\u001b[0m\u001b[1;33m\u001b[0m\u001b[0m\n\u001b[0;32m     86\u001b[0m     \u001b[1;31m#val = distance_between_cities(cityCoords).values()\u001b[0m\u001b[1;33m\u001b[0m\u001b[1;33m\u001b[0m\u001b[1;33m\u001b[0m\u001b[0m\n\u001b[1;32m---> 87\u001b[1;33m     \u001b[0mlist\u001b[0m\u001b[1;33m=\u001b[0m \u001b[0mgeneratePath\u001b[0m\u001b[1;33m(\u001b[0m\u001b[1;33m)\u001b[0m\u001b[1;33m\u001b[0m\u001b[1;33m\u001b[0m\u001b[0m\n\u001b[0m\u001b[0;32m     88\u001b[0m     \u001b[1;31m#print(list)\u001b[0m\u001b[1;33m\u001b[0m\u001b[1;33m\u001b[0m\u001b[1;33m\u001b[0m\u001b[0m\n\u001b[0;32m     89\u001b[0m     \u001b[0mcity_names\u001b[0m \u001b[1;33m=\u001b[0m \u001b[0mopen\u001b[0m\u001b[1;33m(\u001b[0m\u001b[1;34m\"city_names.txt\"\u001b[0m\u001b[1;33m,\u001b[0m \u001b[1;34m'r'\u001b[0m\u001b[1;33m)\u001b[0m\u001b[1;33m.\u001b[0m\u001b[0mread\u001b[0m\u001b[1;33m(\u001b[0m\u001b[1;33m)\u001b[0m\u001b[1;33m.\u001b[0m\u001b[0msplitlines\u001b[0m\u001b[1;33m(\u001b[0m\u001b[1;33m)\u001b[0m\u001b[1;33m\u001b[0m\u001b[1;33m\u001b[0m\u001b[0m\n",
      "\u001b[1;31mTypeError\u001b[0m: generatePath() missing 1 required positional argument: 'cities'"
     ]
    }
   ],
   "source": [
    "import numpy as np, random, operator, pandas as pd, matplotlib.pyplot as plt\n",
    "import math\n",
    "import numpy as np\n",
    "import pandas as pd\n",
    "\n",
    "class initialize:\n",
    "    \n",
    "    def __init__(self, cities, city_names, populationSize):\n",
    "        self.cities = cities\n",
    "        self.city_name = city_names\n",
    "        self.populationSize = populationSize\n",
    "        #self.cityList = cityList\n",
    "    \n",
    "    def distance_between_cities(self, cities):\n",
    "        data = dict()\n",
    "        for index, value in enumerate(cities):\n",
    "            x1 = cities[index][0]\n",
    "            y1 = cities[index][1]\n",
    "            if index + 1 <= len(cities)-1:\n",
    "                x2 = cities[index+1][0]\n",
    "                y2 = cities[index+1][1]\n",
    "                xdiff = x2 - x1\n",
    "                ydiff = y2 - y1\n",
    "                dst = (xdiff*xdiff + ydiff*ydiff)** 0.5\n",
    "                data['Distance from city '+ str(index+1) +' to city ' + str(index+2)] = dst \n",
    "            elif index + 1 > len(cities)-1:\n",
    "                x2 = cities[0][0]\n",
    "                y2 = cities[0][1]\n",
    "                xdiff = x2 - x1\n",
    "                ydiff = y2 - y1\n",
    "                dst = (xdiff*xdiff + ydiff*ydiff)** 0.5\n",
    "                data['Distance from city '+ str(index+1) + ' to city ' + str(index +2 -len(cities))] = dst\n",
    "        return data\n",
    "\n",
    "    def total_distance(self, cities):\n",
    "        total = sum(distance_between_cities(cities).values())\n",
    "        return total\n",
    "\n",
    "    def generatePath(self):\n",
    "        path = random.sample(self.cities, len(self.cities))\n",
    "        return path\n",
    "\n",
    "    def plot_pop(self, cities, city_names, cityList):\n",
    "        xList = []\n",
    "        yList = []\n",
    "        for i in range(len(cityList)):\n",
    "            xList.append(cityList[i][0])\n",
    "            yList.append(cityList[i][1])\n",
    "\n",
    "        plt.figure(figsize=(20,10))\n",
    "        x = [i[0] for i in cities]\n",
    "        y = [i[1] for i in cities]\n",
    "        x1=[x[0],x[-1]]\n",
    "        y1=[y[0],y[-1]]\n",
    "        plt.plot(x, y, 'b', x1, y1, 'b')\n",
    "        plt.scatter (x, y) \n",
    "\n",
    "        for i, txt in enumerate(city_names):\n",
    "            plt.annotate(txt, (xList[i], yList[i]),horizontalalignment='center', \n",
    "                verticalalignment='bottom',\n",
    "                        )\n",
    "            print(txt, xList[i], yList[i])\n",
    "        plt.show()\n",
    "        return\n",
    "\n",
    "    def initialPopulation(self):\n",
    "        population = [generatePath(self.cities) for i in range(0, self.populationSize)]\n",
    "        return population\n",
    "\n",
    "\n",
    "class GeneticAlgorithm:\n",
    "    def __init(self):\n",
    "        return\n",
    "    \n",
    "    #For the fitness levels, I base it off of total distance. We can decide on this, but I get the total distances and \n",
    "    #do 1/totalDistance.\n",
    "    def path_fitness(self, cities):\n",
    "        total_dis = total_distance(cities)\n",
    "        fitness = 1 / float(total_dis)\n",
    "        return fitness\n",
    "\n",
    "if __name__ == '__main__':\n",
    "    f = open(\"TSM.txt\", 'r').read().splitlines()\n",
    "    cityCoords = np.array([ tuple( map( float, coord.split() ) ) for coord in f ]).tolist()\n",
    "    #print(\"City Coords: \", cityCoords)\n",
    "    #val = distance_between_cities(cityCoords).values()\n",
    "    list= generatePath()\n",
    "    #print(list)\n",
    "    city_names = open(\"city_names.txt\", 'r').read().splitlines()\n",
    "    \n",
    "    initial = initialize(cityCoords, city_names, 10)\n",
    "    \n",
    "    population = initial.initialPopulation()\n",
    "    for idx, pop_plot in enumerate(population):\n",
    "        print('Init pop. ' + str(idx), pop_plot)\n",
    "        print('\\n')\n",
    "        initial.plot_pop(pop_plot, city_names, cityCoords)"
   ]
  },
  {
   "cell_type": "code",
   "execution_count": null,
   "metadata": {
    "scrolled": false
   },
   "outputs": [],
   "source": []
  },
  {
   "cell_type": "code",
   "execution_count": null,
   "metadata": {
    "scrolled": false
   },
   "outputs": [],
   "source": []
  },
  {
   "cell_type": "code",
   "execution_count": null,
   "metadata": {},
   "outputs": [],
   "source": [
    " "
   ]
  },
  {
   "cell_type": "code",
   "execution_count": null,
   "metadata": {},
   "outputs": [],
   "source": [
    "\n",
    "\n"
   ]
  },
  {
   "cell_type": "code",
   "execution_count": null,
   "metadata": {},
   "outputs": [],
   "source": []
  },
  {
   "cell_type": "code",
   "execution_count": null,
   "metadata": {},
   "outputs": [],
   "source": []
  },
  {
   "cell_type": "code",
   "execution_count": null,
   "metadata": {},
   "outputs": [],
   "source": []
  },
  {
   "cell_type": "code",
   "execution_count": null,
   "metadata": {},
   "outputs": [],
   "source": []
  },
  {
   "cell_type": "code",
   "execution_count": null,
   "metadata": {},
   "outputs": [],
   "source": []
  },
  {
   "cell_type": "code",
   "execution_count": null,
   "metadata": {},
   "outputs": [],
   "source": []
  },
  {
   "cell_type": "code",
   "execution_count": null,
   "metadata": {},
   "outputs": [],
   "source": []
  }
 ],
 "metadata": {
  "kernelspec": {
   "display_name": "Python 3",
   "language": "python",
   "name": "python3"
  },
  "language_info": {
   "codemirror_mode": {
    "name": "ipython",
    "version": 3
   },
   "file_extension": ".py",
   "mimetype": "text/x-python",
   "name": "python",
   "nbconvert_exporter": "python",
   "pygments_lexer": "ipython3",
   "version": "3.7.6"
  }
 },
 "nbformat": 4,
 "nbformat_minor": 4
}
